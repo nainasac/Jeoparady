{
 "cells": [
  {
   "cell_type": "code",
   "execution_count": 1,
   "id": "435c4cdb",
   "metadata": {
    "scrolled": true
   },
   "outputs": [],
   "source": [
    "import pandas as pd\n",
    "pd.set_option('display.max_colwidth', None)"
   ]
  },
  {
   "cell_type": "code",
   "execution_count": 2,
   "id": "0bf56f41",
   "metadata": {
    "scrolled": true
   },
   "outputs": [
    {
     "name": "stdout",
     "output_type": "stream",
     "text": [
      "   Show Number    Air Date      Round                         Category  Value  \\\n",
      "0         4680  2004-12-31  Jeopardy!                          HISTORY   $200   \n",
      "1         4680  2004-12-31  Jeopardy!  ESPN's TOP 10 ALL-TIME ATHLETES   $200   \n",
      "2         4680  2004-12-31  Jeopardy!      EVERYBODY TALKS ABOUT IT...   $200   \n",
      "3         4680  2004-12-31  Jeopardy!                 THE COMPANY LINE   $200   \n",
      "4         4680  2004-12-31  Jeopardy!              EPITAPHS & TRIBUTES   $200   \n",
      "5         4680  2004-12-31  Jeopardy!                   3-LETTER WORDS   $200   \n",
      "6         4680  2004-12-31  Jeopardy!                          HISTORY   $400   \n",
      "7         4680  2004-12-31  Jeopardy!  ESPN's TOP 10 ALL-TIME ATHLETES   $400   \n",
      "8         4680  2004-12-31  Jeopardy!      EVERYBODY TALKS ABOUT IT...   $400   \n",
      "9         4680  2004-12-31  Jeopardy!                 THE COMPANY LINE   $400   \n",
      "\n",
      "                                                                                                        Question  \\\n",
      "0               For the last 8 years of his life, Galileo was under house arrest for espousing this man's theory   \n",
      "1    No. 2: 1912 Olympian; football star at Carlisle Indian School; 6 MLB seasons with the Reds, Giants & Braves   \n",
      "2                       The city of Yuma in this state has a record average of 4,055 hours of sunshine each year   \n",
      "3                           In 1963, live on \"The Art Linkletter Show\", this company served its billionth burger   \n",
      "4       Signer of the Dec. of Indep., framer of the Constitution of Mass., second President of the United States   \n",
      "5                                  In the title of an Aesop fable, this insect shared billing with a grasshopper   \n",
      "6                                   Built in 312 B.C. to link Rome & the South of Italy, it's still in use today   \n",
      "7                                         No. 8: 30 steals for the Birmingham Barons; 2,306 steals for the Bulls   \n",
      "8  In the winter of 1971-72, a record 1,122 inches of snow fell at Rainier Paradise Ranger Station in this state   \n",
      "9             This housewares store was named for the packaging its merchandise came in & was first displayed on   \n",
      "\n",
      "           Answer  \n",
      "0      Copernicus  \n",
      "1      Jim Thorpe  \n",
      "2         Arizona  \n",
      "3      McDonald's  \n",
      "4      John Adams  \n",
      "5         the ant  \n",
      "6  the Appian Way  \n",
      "7  Michael Jordan  \n",
      "8      Washington  \n",
      "9  Crate & Barrel  \n"
     ]
    }
   ],
   "source": [
    "jeopardy = pd.read_csv('jeopardy.csv')\n",
    "print(jeopardy.head(10))"
   ]
  },
  {
   "cell_type": "code",
   "execution_count": 3,
   "id": "aa81345d",
   "metadata": {
    "scrolled": false
   },
   "outputs": [
    {
     "name": "stdout",
     "output_type": "stream",
     "text": [
      "Show Number\n",
      " Air Date\n",
      " Round\n",
      " Category\n",
      " Value\n",
      " Question\n",
      " Answer\n"
     ]
    }
   ],
   "source": [
    "for col in jeopardy.columns:\n",
    "    print(col)"
   ]
  },
  {
   "cell_type": "code",
   "execution_count": 4,
   "id": "edf5ee89",
   "metadata": {
    "scrolled": true
   },
   "outputs": [],
   "source": [
    "jeopardy = jeopardy.rename(columns = {'Show Number':'Show_Number',' Air Date':'Air_Date',' Round':'Round',' Category':'Category',\\\n",
    "                             ' Value':'Value',' Question':'Question',' Answer':'Answer'})"
   ]
  },
  {
   "cell_type": "code",
   "execution_count": 5,
   "id": "b0f3bcc7",
   "metadata": {},
   "outputs": [],
   "source": [
    "def filter_data(data, words):\n",
    "    filter = lambda x: all(word.lower() in x.lower() for word in words)\n",
    "    return data.loc[data['Question'].apply(filter)]"
   ]
  },
  {
   "cell_type": "code",
   "execution_count": 6,
   "id": "10547486",
   "metadata": {
    "scrolled": true
   },
   "outputs": [
    {
     "name": "stdout",
     "output_type": "stream",
     "text": [
      "        Show_Number    Air_Date             Round               Category  \\\n",
      "4953           3003  1997-09-24  Double Jeopardy!           \"PH\"UN WORDS   \n",
      "6337           3517  1999-12-14  Double Jeopardy!                    Y1K   \n",
      "9191           3907  2001-09-04  Double Jeopardy!         WON THE BATTLE   \n",
      "11710          2903  1997-03-26  Double Jeopardy!       BRITISH MONARCHS   \n",
      "13454          4726  2005-03-07         Jeopardy!  A NUMBER FROM 1 TO 10   \n",
      "...             ...         ...               ...                    ...   \n",
      "208295         4621  2004-10-11         Jeopardy!            THE VIKINGS   \n",
      "208742         4863  2005-11-02  Double Jeopardy!         BEFORE & AFTER   \n",
      "213870         5856  2010-02-15  Double Jeopardy!                 URANUS   \n",
      "216021         1881  1992-11-09  Double Jeopardy!         HISTORIC NAMES   \n",
      "216789         5070  2006-09-29  Double Jeopardy!        ANCIENT HISTORY   \n",
      "\n",
      "         Value  \\\n",
      "4953      $200   \n",
      "6337      $800   \n",
      "9191      $800   \n",
      "11710     $600   \n",
      "13454    $1000   \n",
      "...        ...   \n",
      "208295    $600   \n",
      "208742  $3,000   \n",
      "213870   $1600   \n",
      "216021   $1000   \n",
      "216789   $1200   \n",
      "\n",
      "                                                                                                      Question  \\\n",
      "4953                  Both England's King George V & FDR put their stamp of approval on this \"King of Hobbies\"   \n",
      "6337    In retaliation for Viking raids, this \"Unready\" king of England attacks Norse areas of the Isle of Man   \n",
      "9191                  This king of England beat the odds to trounce the French in the 1415 Battle of Agincourt   \n",
      "11710             This Scotsman, the first Stuart king of England, was called \"The Wisest Fool in Christendom\"   \n",
      "13454                                     It's the number that followed the last king of England named William   \n",
      "...                                                                                                        ...   \n",
      "208295      In 1066 this great-great grandson of Rollo made what some call the last Viking invasion of England   \n",
      "208742                    Dutch-born king who ruled England jointly with Mary II & is a tasty New Zealand fish   \n",
      "213870              In 1781 William Herschel discovered Uranus & initially named it after this king of England   \n",
      "216021        His nickname was \"Bertie\", but he used this name & number when he became king of England in 1901   \n",
      "216789      This kingdom of England grew from 2 settlements, one founded around 495 by Cerdic & his son Cynric   \n",
      "\n",
      "                              Answer  \n",
      "4953    Philately (stamp collecting)  \n",
      "6337                        Ethelred  \n",
      "9191                         Henry V  \n",
      "11710                        James I  \n",
      "13454                              4  \n",
      "...                              ...  \n",
      "208295         William the Conqueror  \n",
      "208742      William of Orange roughy  \n",
      "213870                    George III  \n",
      "216021                    Edward VII  \n",
      "216789                        Wessex  \n",
      "\n",
      "[152 rows x 7 columns]\n"
     ]
    }
   ],
   "source": [
    "print(filter_data(jeopardy, ['King','England']))"
   ]
  },
  {
   "cell_type": "code",
   "execution_count": 7,
   "id": "ec46d389",
   "metadata": {},
   "outputs": [],
   "source": [
    "def filter_case_sense_data(data, words):\n",
    "    filter = lambda x: all(word in x for word in words)\n",
    "    return data.loc[data['Question'].apply(filter)]"
   ]
  },
  {
   "cell_type": "code",
   "execution_count": 8,
   "id": "704f2500",
   "metadata": {},
   "outputs": [
    {
     "name": "stdout",
     "output_type": "stream",
     "text": [
      "        Show_Number    Air_Date             Round  \\\n",
      "4953           3003  1997-09-24  Double Jeopardy!   \n",
      "14912          2832  1996-12-17         Jeopardy!   \n",
      "21511          4650  2004-11-19         Jeopardy!   \n",
      "23810          4862  2005-11-01         Jeopardy!   \n",
      "27555          1799  1992-05-28  Double Jeopardy!   \n",
      "33294          5589  2008-12-18         Jeopardy!   \n",
      "41148          5925  2010-05-21  Double Jeopardy!   \n",
      "41357          2751  1996-07-15         Jeopardy!   \n",
      "43122          3937  2001-10-16  Double Jeopardy!   \n",
      "47814          4365  2003-07-18  Double Jeopardy!   \n",
      "49994          5499  2008-07-03         Jeopardy!   \n",
      "51115          3574  2000-03-02         Jeopardy!   \n",
      "51565          4264  2003-02-27  Double Jeopardy!   \n",
      "56600          3533  2000-01-05  Double Jeopardy!   \n",
      "57516          4299  2003-04-17  Double Jeopardy!   \n",
      "58949          6250  2011-11-18  Double Jeopardy!   \n",
      "71808          5270  2007-07-06         Jeopardy!   \n",
      "74235          2757  1996-09-03         Jeopardy!   \n",
      "77195          3656  2000-06-26         Jeopardy!   \n",
      "79457          4230  2003-01-10  Double Jeopardy!   \n",
      "80113          5827  2010-01-05         Jeopardy!   \n",
      "84639          1558  1991-05-15         Jeopardy!   \n",
      "86412          1837  1992-09-08  Double Jeopardy!   \n",
      "89710          5390  2008-02-01  Double Jeopardy!   \n",
      "111926         1331  1990-05-21         Jeopardy!   \n",
      "118809         1905  1992-12-11         Jeopardy!   \n",
      "123299         4656  2004-11-29         Jeopardy!   \n",
      "123671         5718  2009-06-17         Jeopardy!   \n",
      "125822         4042  2002-03-12  Double Jeopardy!   \n",
      "127484         1325  1990-05-11  Double Jeopardy!   \n",
      "127758         6021  2010-11-15         Jeopardy!   \n",
      "129106         4906  2006-01-02  Double Jeopardy!   \n",
      "130208         5222  2007-05-01         Jeopardy!   \n",
      "137818         3368  1999-04-07         Jeopardy!   \n",
      "143434         1882  1992-11-10  Double Jeopardy!   \n",
      "150880         4790  2005-06-03  Double Jeopardy!   \n",
      "165110         4255  2003-02-14         Jeopardy!   \n",
      "165197         6272  2011-12-20  Double Jeopardy!   \n",
      "170007         5455  2008-05-02  Double Jeopardy!   \n",
      "174055         2143  1993-12-22  Double Jeopardy!   \n",
      "175259         3055  1997-12-05  Double Jeopardy!   \n",
      "183462         3099  1998-02-05   Final Jeopardy!   \n",
      "186239         5339  2007-11-22  Double Jeopardy!   \n",
      "187651         5264  2007-06-28         Jeopardy!   \n",
      "191579         5453  2008-04-30         Jeopardy!   \n",
      "192265         6292  2012-01-17  Double Jeopardy!   \n",
      "192966         6175  2011-06-17  Double Jeopardy!   \n",
      "194516         6114  2011-03-24  Double Jeopardy!   \n",
      "200369         2937  1997-05-13         Jeopardy!   \n",
      "\n",
      "                            Category   Value  \\\n",
      "4953                    \"PH\"UN WORDS    $200   \n",
      "14912                  WORLD HISTORY    $100   \n",
      "21511                     THE \"O.C.\"   $1000   \n",
      "23810                  NAME THE YEAR    $400   \n",
      "27555               HISTORIC IN-LAWS    $600   \n",
      "33294            THE BAYEUX TAPESTRY    $600   \n",
      "41148                       TREATIES   $1600   \n",
      "41357                 HISTORIC NAMES    $400   \n",
      "43122                     OH, HENRY!    $400   \n",
      "47814                        POTIONS   $2000   \n",
      "49994                    REIGN DROPS   $1000   \n",
      "51115             ALL THINGS BRITISH    $200   \n",
      "51565             MUSIC APPRECIATION    $800   \n",
      "56600                 FRENCH HISTORY    $600   \n",
      "57516               THE \"UN\"CATEGORY   $2000   \n",
      "58949            ASSUME THE POSITION   $2000   \n",
      "71808        WHERE THERE'S A WILLIAM   $1000   \n",
      "74235                  WORLD HISTORY    $200   \n",
      "77195                        JUNE 26    $400   \n",
      "79457                     CONQUERORS    $800   \n",
      "80113                      \"M\" & \"M\"   $1000   \n",
      "84639              FILMS OF THE '90S    $200   \n",
      "86412                        ROYALTY    $400   \n",
      "89710                 \"CAN\"NED WORDS   $1600   \n",
      "111926                FILE UNDER \"M\"  $1,000   \n",
      "118809                KINGS & QUEENS    $300   \n",
      "123299                        CHAIRS    $400   \n",
      "123671          A YEAR ENDING IN '09   $1000   \n",
      "125822              PAINT IT \"BLACK\"  $5,000   \n",
      "127484               MEDIEVAL PEOPLE    $600   \n",
      "127758                   STATE FACTS    $600   \n",
      "129106            HISTORIC NICKNAMES   $2000   \n",
      "130208                       ROYALTY    $600   \n",
      "137818             PEOPLE IN HISTORY    $400   \n",
      "143434                           ART    $800   \n",
      "150880  20th CENTURY BRITISH HISTORY   $1200   \n",
      "165110                     HIGH COUP   $1000   \n",
      "165197           TOUCHED BY AN ANGEL   $2000   \n",
      "170007               THE SWEET 1600s   $1600   \n",
      "174055               HISTORIC PEOPLE    $200   \n",
      "175259                     THE 1930s    $400   \n",
      "183462                       ROYALTY    None   \n",
      "186239              EUROPEAN HISTORY    $800   \n",
      "187651   CAPITALS OF THE WEST INDIES    $600   \n",
      "191579                       BATTLES    $800   \n",
      "192265    NORWAY'S CULTURE & HISTORY   $1600   \n",
      "192966                 HERO SANDWICH    $800   \n",
      "194516           THE YUCKS STOP HERE   $1600   \n",
      "200369               BRITISH HISTORY    $200   \n",
      "\n",
      "                                                                                                                                                                                                                                                                                                                                                        Question  \\\n",
      "4953                                                                                                                                                                                                                                                                    Both England's King George V & FDR put their stamp of approval on this \"King of Hobbies\"   \n",
      "14912                                                                                                                                                                                                                                                          This country's King Louis IV was nicknamed \"Louis From Overseas\" because he was raised in England   \n",
      "21511                                                                                                                                                                                                                                                                               this man and his son ruled England following the execution of King Charles I   \n",
      "23810                                                                                                                                                                                                                                                       William the Conqueror was crowned King of England in Westminster Abbey on Christmas Day in this year   \n",
      "27555                                                                                                                                                                                                                                                                         This member of the Medici family was the mother-in-law of England's King Charles I   \n",
      "33294               (Sarah of the Clue Crew delivers the clue from the Bayeux Cathedral in France.)  Despite taking an oath to assure another succession, Harold is crowned King of England; the tapestry indicated it was <a href=\"http://www.j-archive.com/media/2008-12-18_J_08.jpg\" target=\"_blank\">Stigant</a>, this archbishop, who performed the ceremony   \n",
      "41148                                                                                                                                                                                                                                  This French king recognized William of Orange as William II, King of England, under the terms of 1697's Treaty of Ryswick   \n",
      "41357                                                                                                                                                                                                                                                   England's King Henry VIII had 3 wives named Catherine:  Catherine Howard, Catherine of Aragon & this one   \n",
      "43122                                                                                                                                                                                                                                                                                                                     The father of England's King Edward VI   \n",
      "47814                                                                                                                                                                                                                                                                                                 This steak sauce was created for King George IV of England   \n",
      "49994                                                                                                                                                                                                                                                                     Elizabeth I's half-brother, he reigned before her as King of England from 1547 to 1553   \n",
      "51115                                                                                                                (<a href=\"http://www.j-archive.com/media/2000-03-02_J_22.jpg\" target=\"_blank\">Alex Trebek reads from England.</a>)  In 1214 barons fed up with King John met at the abbey whose ruins we see here; the result a year later was this charter   \n",
      "51565                                                                                                                                                                                                                                               He wrote several anthems, including \"The King Shall Rejoice\", for the coronation of England's King George II   \n",
      "56600                                                                                                                                                                                                                                                            This city known for its 24-hour auto race was the birthplace of England's King Henry II in 1133   \n",
      "57516                                                                                                                                                                                                                                                                                       Famous (& rather insulting) adjective for England's King Ethelred II   \n",
      "58949                                                                                                                                                                                                                                                                      He became King of England in 1399 after forcing his cousin Richard II from the throne   \n",
      "71808                                                                                                                                                                                                                                                                                    Number of the William who was England's \"Sailor King\" from 1830 to 1837   \n",
      "74235                                                                                                                                                                                                                                                                   Barons & churchmen drew up this 1215 document to reduce the power of England's King John   \n",
      "77195                                                                                                                                                                                                                                                        He became King of England on June 26, 1483; just over 2 years later he was killed at Bosworth Field   \n",
      "79457                                                                                                                                                                                                                                            On Christmas Day 1066, he was crowned King of England, 72 days after defeating Harold at the Battle of Hastings   \n",
      "80113                                                                                                                                                                                                                                                                                              England's King Charles II was known by this \"jovial\" nickname   \n",
      "84639                                                                                                                                                                                                                                                                          He went from second banana on \"Roseanne\" to top banana of England in \"King Ralph\"   \n",
      "86412                                                                                                                                                                                                                                                                       This country's King Olaf V was born in England & was the grandson of King Edward VII   \n",
      "89710                                                                                                                                                                                                                                                          This 11th Century King of England also ruled Denmark & Norway during the latter part of his reign   \n",
      "111926                                                                                                                                                                                                                                                 It begins \"John, by the grace of God, King of England, Lord of Ireland, Duke of Normandy & Aquitaine....\"   \n",
      "118809                                                                                                                                                                                                                                                                                          In French this King of England is called Guillaume le Conquerant   \n",
      "123299                                                                                                                                                                                                                                                                   If you want to be crowned King of England, this rock has to be in your coronation chair   \n",
      "123671                                                                                                                                                                                                                                                                                                                            King Henry VII of England dies   \n",
      "125822                                                                                                                                                                                                                                                                                            Famous nickname of the eldest son of England's King Edward III   \n",
      "127484                                                                                                                                                                                                                                                              Ethelred the Unready managed to lose most of England to King Sweyn Forkbeard of this country   \n",
      "127758                                                                                                                                                                                                                                                                                This state was named for the King of England who reigned from 1727 to 1760   \n",
      "129106                                                                                                                                                                                                                                                            King Edward I of England, who fought William Wallace, had this nickname relating to his height   \n",
      "130208                                                                                                                                                                                                                                                                                  This \"Sun King\" sniffed, \"England is a little garden full of sour weeds\"   \n",
      "137818                                                                                                                                                                                                                                                                                      The last King William to rule England had this number after his name   \n",
      "143434                                                                                                                                                                                                                                                              This Flemish artist painted a unique triple portrait of England's King Charles I around 1637   \n",
      "150880                                                                                                                                                                                                                                                                                     During Stanley Baldwin's term as P.M., this King of England abdicated   \n",
      "165110                                                                                                                                                                                                                                                      The 1st commoner to rule England, he became lord protector following the overthrow of King Charles I   \n",
      "165197                                                                                                                                                                                                                                                     The \"Angel of Hadley\" is said to have saved a New England town during the war with this Indian \"King\"   \n",
      "170007                                                                                                                                                                                                                                                              In the 1697 Treaty of Rijswijk, the French recognized this Dutch-born man as King of England   \n",
      "174055                                                                                                                                                                                                                                                                                          This conqueror was crowned King of England on Christmas Day 1066   \n",
      "175259                                                                                                                                                                                                                                                                                                        His short reign as King of England fell in in 1936   \n",
      "183462                                                                                                                                                                                                                                                          A capital in the West Indies is named for this family name of William of Orange, King of England   \n",
      "186239                                                                                                                                                                                                                                         He was King of England from 1189 to 1199 but spent only 6 months there; the rest of the time, he was off fighting   \n",
      "187651                                                                                                                                                                                                                                                                   This Bahamian capital took its name from the family name of King William III of England   \n",
      "191579                                                                                                                                                                                                                                                                           England's King Harold II lost the all-important Battle of Hastings in this year   \n",
      "192265  (<a href=\"http://www.j-archive.com/media/2012-01-17_DJ_25.jpg\" target=\"_blank\">Sarah of the Clue Crew stands in front of the Royal Palace in Oslo, Norway.</a>) King Harald V lives here, in Norway's Royal Palace. He and his second cousin, England's Queen Elizabeth, are both great-grandchildren of this British king, who ruled from 1901 to 1910.   \n",
      "192966                                                                                                                                                                                                                                                                                                                        England's King _____ _____ R. Luce   \n",
      "194516                                                                                                                                                                                                                                                          The \"Monty Python\" member who played King Arthur, he ended his grail quest in Maidstone, England   \n",
      "200369                                                                                                                                                                                                                                           8th C. King Offa built a 170-mile north-south dike that still partly marks the border of England & this country   \n",
      "\n",
      "                              Answer  \n",
      "4953    Philately (stamp collecting)  \n",
      "14912                         France  \n",
      "21511                Oliver Cromwell  \n",
      "23810                           1066  \n",
      "27555                Marie de Medici  \n",
      "33294   the Archbishop of Canterbury  \n",
      "41148                      Louis XIV  \n",
      "41357                 Catherine Parr  \n",
      "43122                     Henry VIII  \n",
      "47814                             A1  \n",
      "49994                      Edward VI  \n",
      "51115                    Magna Carta  \n",
      "51565         George Frideric Handel  \n",
      "56600                        Le Mans  \n",
      "57516                  \"the Unready\"  \n",
      "58949                       Henry IV  \n",
      "71808                             IV  \n",
      "74235                The Magna Carta  \n",
      "77195                    Richard III  \n",
      "79457          William the Conqueror  \n",
      "80113            \"the Merry Monarch\"  \n",
      "84639                   John Goodman  \n",
      "86412                         Norway  \n",
      "89710                         Canute  \n",
      "111926                   Magna Carta  \n",
      "118809         William the Conqueror  \n",
      "123299            the Stone of Scone  \n",
      "123671                          1509  \n",
      "125822              the Black Prince  \n",
      "127484                       Denmark  \n",
      "127758                       Georgia  \n",
      "129106                  \"Longshanks\"  \n",
      "130208                     Louis XIV  \n",
      "137818                            IV  \n",
      "143434              Anthony van Dyck  \n",
      "150880              King Edward VIII  \n",
      "165110               Oliver Cromwell  \n",
      "165197                   King Philip  \n",
      "170007             William of Orange  \n",
      "174055                       William  \n",
      "175259              King Edward VIII  \n",
      "183462                        Nassau  \n",
      "186239         Richard the Lionheart  \n",
      "187651                        Nassau  \n",
      "191579                          1066  \n",
      "192265                    Edward VII  \n",
      "192966                    John Henry  \n",
      "194516                Graham Chapman  \n",
      "200369                         Wales  \n"
     ]
    }
   ],
   "source": [
    "print(filter_case_sense_data(jeopardy, ['King','England']))"
   ]
  },
  {
   "cell_type": "code",
   "execution_count": 9,
   "id": "02c9f7bd",
   "metadata": {},
   "outputs": [],
   "source": [
    "def filter_exact_word(data, words):\n",
    "    filter = lambda x: all(word in x for word in words)\n",
    "    return data.loc[data['Question'].apply(filter)]"
   ]
  },
  {
   "cell_type": "code",
   "execution_count": 10,
   "id": "a3b26df9",
   "metadata": {
    "scrolled": true
   },
   "outputs": [
    {
     "name": "stdout",
     "output_type": "stream",
     "text": [
      "        Show_Number    Air_Date             Round  \\\n",
      "21511          4650  2004-11-19         Jeopardy!   \n",
      "23810          4862  2005-11-01         Jeopardy!   \n",
      "49994          5499  2008-07-03         Jeopardy!   \n",
      "58949          6250  2011-11-18  Double Jeopardy!   \n",
      "77195          3656  2000-06-26         Jeopardy!   \n",
      "86412          1837  1992-09-08  Double Jeopardy!   \n",
      "89710          5390  2008-02-01  Double Jeopardy!   \n",
      "118809         1905  1992-12-11         Jeopardy!   \n",
      "127484         1325  1990-05-11  Double Jeopardy!   \n",
      "127758         6021  2010-11-15         Jeopardy!   \n",
      "137818         3368  1999-04-07         Jeopardy!   \n",
      "150880         4790  2005-06-03  Double Jeopardy!   \n",
      "174055         2143  1993-12-22  Double Jeopardy!   \n",
      "175259         3055  1997-12-05  Double Jeopardy!   \n",
      "186239         5339  2007-11-22  Double Jeopardy!   \n",
      "200369         2937  1997-05-13         Jeopardy!   \n",
      "\n",
      "                            Category  Value  \\\n",
      "21511                     THE \"O.C.\"  $1000   \n",
      "23810                  NAME THE YEAR   $400   \n",
      "49994                    REIGN DROPS  $1000   \n",
      "58949            ASSUME THE POSITION  $2000   \n",
      "77195                        JUNE 26   $400   \n",
      "86412                        ROYALTY   $400   \n",
      "89710                 \"CAN\"NED WORDS  $1600   \n",
      "118809                KINGS & QUEENS   $300   \n",
      "127484               MEDIEVAL PEOPLE   $600   \n",
      "127758                   STATE FACTS   $600   \n",
      "137818             PEOPLE IN HISTORY   $400   \n",
      "150880  20th CENTURY BRITISH HISTORY  $1200   \n",
      "174055               HISTORIC PEOPLE   $200   \n",
      "175259                     THE 1930s   $400   \n",
      "186239              EUROPEAN HISTORY   $800   \n",
      "200369               BRITISH HISTORY   $200   \n",
      "\n",
      "                                                                                                                 Question  \\\n",
      "21511                                        this man and his son ruled England following the execution of King Charles I   \n",
      "23810                William the Conqueror was crowned King of England in Westminster Abbey on Christmas Day in this year   \n",
      "49994                              Elizabeth I's half-brother, he reigned before her as King of England from 1547 to 1553   \n",
      "58949                               He became King of England in 1399 after forcing his cousin Richard II from the throne   \n",
      "77195                 He became King of England on June 26, 1483; just over 2 years later he was killed at Bosworth Field   \n",
      "86412                                This country's King Olaf V was born in England & was the grandson of King Edward VII   \n",
      "89710                   This 11th Century King of England also ruled Denmark & Norway during the latter part of his reign   \n",
      "118809                                                   In French this King of England is called Guillaume le Conquerant   \n",
      "127484                       Ethelred the Unready managed to lose most of England to King Sweyn Forkbeard of this country   \n",
      "127758                                         This state was named for the King of England who reigned from 1727 to 1760   \n",
      "137818                                               The last King William to rule England had this number after his name   \n",
      "150880                                              During Stanley Baldwin's term as P.M., this King of England abdicated   \n",
      "174055                                                   This conqueror was crowned King of England on Christmas Day 1066   \n",
      "175259                                                                 His short reign as King of England fell in in 1936   \n",
      "186239  He was King of England from 1189 to 1199 but spent only 6 months there; the rest of the time, he was off fighting   \n",
      "200369    8th C. King Offa built a 170-mile north-south dike that still partly marks the border of England & this country   \n",
      "\n",
      "                       Answer  \n",
      "21511         Oliver Cromwell  \n",
      "23810                    1066  \n",
      "49994               Edward VI  \n",
      "58949                Henry IV  \n",
      "77195             Richard III  \n",
      "86412                  Norway  \n",
      "89710                  Canute  \n",
      "118809  William the Conqueror  \n",
      "127484                Denmark  \n",
      "127758                Georgia  \n",
      "137818                     IV  \n",
      "150880       King Edward VIII  \n",
      "174055                William  \n",
      "175259       King Edward VIII  \n",
      "186239  Richard the Lionheart  \n",
      "200369                  Wales  \n"
     ]
    }
   ],
   "source": [
    "print( filter_exact_word(jeopardy, [' King ',' England ']))"
   ]
  },
  {
   "cell_type": "code",
   "execution_count": 11,
   "id": "eafda39d",
   "metadata": {},
   "outputs": [],
   "source": [
    "def filter_not_word(data, words):\n",
    "    filter = lambda x: all(not word in x for word in words)\n",
    "    return data.loc[data['Question'].apply(filter)]"
   ]
  },
  {
   "cell_type": "code",
   "execution_count": 12,
   "id": "1d2c6434",
   "metadata": {
    "scrolled": true
   },
   "outputs": [
    {
     "name": "stdout",
     "output_type": "stream",
     "text": [
      "        Show_Number    Air_Date             Round  \\\n",
      "0              4680  2004-12-31         Jeopardy!   \n",
      "1              4680  2004-12-31         Jeopardy!   \n",
      "2              4680  2004-12-31         Jeopardy!   \n",
      "3              4680  2004-12-31         Jeopardy!   \n",
      "4              4680  2004-12-31         Jeopardy!   \n",
      "...             ...         ...               ...   \n",
      "216925         4999  2006-05-11  Double Jeopardy!   \n",
      "216926         4999  2006-05-11  Double Jeopardy!   \n",
      "216927         4999  2006-05-11  Double Jeopardy!   \n",
      "216928         4999  2006-05-11  Double Jeopardy!   \n",
      "216929         4999  2006-05-11   Final Jeopardy!   \n",
      "\n",
      "                               Category  Value  \\\n",
      "0                               HISTORY   $200   \n",
      "1       ESPN's TOP 10 ALL-TIME ATHLETES   $200   \n",
      "2           EVERYBODY TALKS ABOUT IT...   $200   \n",
      "3                      THE COMPANY LINE   $200   \n",
      "4                   EPITAPHS & TRIBUTES   $200   \n",
      "...                                 ...    ...   \n",
      "216925                   RIDDLE ME THIS  $2000   \n",
      "216926                        \"T\" BIRDS  $2000   \n",
      "216927           AUTHORS IN THEIR YOUTH  $2000   \n",
      "216928                       QUOTATIONS  $2000   \n",
      "216929                   HISTORIC NAMES   None   \n",
      "\n",
      "                                                                                                                      Question  \\\n",
      "0                             For the last 8 years of his life, Galileo was under house arrest for espousing this man's theory   \n",
      "1                  No. 2: 1912 Olympian; football star at Carlisle Indian School; 6 MLB seasons with the Reds, Giants & Braves   \n",
      "2                                     The city of Yuma in this state has a record average of 4,055 hours of sunshine each year   \n",
      "3                                         In 1963, live on \"The Art Linkletter Show\", this company served its billionth burger   \n",
      "4                     Signer of the Dec. of Indep., framer of the Constitution of Mass., second President of the United States   \n",
      "...                                                                                                                        ...   \n",
      "216925                                              This Puccini opera turns on the solution to 3 riddles posed by the heroine   \n",
      "216926                 In North America this term is properly applied to only 4 species that are crested, including the tufted   \n",
      "216927               In Penny Lane, where this \"Hellraiser\" grew up, the barber shaves another customer--then flays him alive!   \n",
      "216928  From Ft. Sill, Okla. he made the plea, Arizona is my land, my home, my father's land, to which I now ask to... return\"   \n",
      "216929                 A silent movie title includes the last name of this 18th c. statesman & favorite of Catherine the Great   \n",
      "\n",
      "                                Answer  \n",
      "0                           Copernicus  \n",
      "1                           Jim Thorpe  \n",
      "2                              Arizona  \n",
      "3                           McDonald's  \n",
      "4                           John Adams  \n",
      "...                                ...  \n",
      "216925                        Turandot  \n",
      "216926                      a titmouse  \n",
      "216927                    Clive Barker  \n",
      "216928                        Geronimo  \n",
      "216929  Grigori Alexandrovich Potemkin  \n",
      "\n",
      "[214256 rows x 7 columns]\n"
     ]
    }
   ],
   "source": [
    "print(filter_not_word(jeopardy, ['King','England']))"
   ]
  },
  {
   "cell_type": "code",
   "execution_count": 13,
   "id": "4423e258",
   "metadata": {},
   "outputs": [
    {
     "name": "stdout",
     "output_type": "stream",
     "text": [
      "['$200' '$400' '$600' '$800' '$2,000' '$1000' '$1200' '$1600' '$2000'\n",
      " '$3,200' 'None' '$5,000' '$100' '$300' '$500' '$1,000' '$1,500' '$1,200'\n",
      " '$4,800' '$1,800' '$1,100' '$2,200' '$3,400' '$3,000' '$4,000' '$1,600'\n",
      " '$6,800' '$1,900' '$3,100' '$700' '$1,400' '$2,800' '$8,000' '$6,000'\n",
      " '$2,400' '$12,000' '$3,800' '$2,500' '$6,200' '$10,000' '$7,000' '$1,492'\n",
      " '$7,400' '$1,300' '$7,200' '$2,600' '$3,300' '$5,400' '$4,500' '$2,100'\n",
      " '$900' '$3,600' '$2,127' '$367' '$4,400' '$3,500' '$2,900' '$3,900'\n",
      " '$4,100' '$4,600' '$10,800' '$2,300' '$5,600' '$1,111' '$8,200' '$5,800'\n",
      " '$750' '$7,500' '$1,700' '$9,000' '$6,100' '$1,020' '$4,700' '$2,021'\n",
      " '$5,200' '$3,389' '$4,200' '$5' '$2,001' '$1,263' '$4,637' '$3,201'\n",
      " '$6,600' '$3,700' '$2,990' '$5,500' '$14,000' '$2,700' '$6,400' '$350'\n",
      " '$8,600' '$6,300' '$250' '$3,989' '$8,917' '$9,500' '$1,246' '$6,435'\n",
      " '$8,800' '$2,222' '$2,746' '$10,400' '$7,600' '$6,700' '$5,100' '$13,200'\n",
      " '$4,300' '$1,407' '$12,400' '$5,401' '$7,800' '$1,183' '$1,203' '$13,000'\n",
      " '$11,600' '$14,200' '$1,809' '$8,400' '$8,700' '$11,000' '$5,201'\n",
      " '$1,801' '$3,499' '$5,700' '$601' '$4,008' '$50' '$2,344' '$2,811'\n",
      " '$18,000' '$1,777' '$3,599' '$9,800' '$796' '$3,150' '$20' '$1,810' '$22'\n",
      " '$9,200' '$1,512' '$8,500' '$585' '$1,534' '$13,800' '$5,001' '$4,238'\n",
      " '$16,400' '$1,347' '$2547' '$11,200']\n"
     ]
    }
   ],
   "source": [
    "print(jeopardy.Value.unique())"
   ]
  },
  {
   "cell_type": "code",
   "execution_count": 14,
   "id": "0bb24fb8",
   "metadata": {},
   "outputs": [],
   "source": [
    "jeopardy['float_value'] = jeopardy.Value.apply(lambda x:x[1:])"
   ]
  },
  {
   "cell_type": "code",
   "execution_count": 15,
   "id": "e100a057",
   "metadata": {
    "scrolled": true
   },
   "outputs": [
    {
     "name": "stdout",
     "output_type": "stream",
     "text": [
      "   Show_Number    Air_Date      Round                         Category Value  \\\n",
      "0         4680  2004-12-31  Jeopardy!                          HISTORY  $200   \n",
      "1         4680  2004-12-31  Jeopardy!  ESPN's TOP 10 ALL-TIME ATHLETES  $200   \n",
      "2         4680  2004-12-31  Jeopardy!      EVERYBODY TALKS ABOUT IT...  $200   \n",
      "3         4680  2004-12-31  Jeopardy!                 THE COMPANY LINE  $200   \n",
      "4         4680  2004-12-31  Jeopardy!              EPITAPHS & TRIBUTES  $200   \n",
      "5         4680  2004-12-31  Jeopardy!                   3-LETTER WORDS  $200   \n",
      "6         4680  2004-12-31  Jeopardy!                          HISTORY  $400   \n",
      "7         4680  2004-12-31  Jeopardy!  ESPN's TOP 10 ALL-TIME ATHLETES  $400   \n",
      "8         4680  2004-12-31  Jeopardy!      EVERYBODY TALKS ABOUT IT...  $400   \n",
      "9         4680  2004-12-31  Jeopardy!                 THE COMPANY LINE  $400   \n",
      "\n",
      "                                                                                                        Question  \\\n",
      "0               For the last 8 years of his life, Galileo was under house arrest for espousing this man's theory   \n",
      "1    No. 2: 1912 Olympian; football star at Carlisle Indian School; 6 MLB seasons with the Reds, Giants & Braves   \n",
      "2                       The city of Yuma in this state has a record average of 4,055 hours of sunshine each year   \n",
      "3                           In 1963, live on \"The Art Linkletter Show\", this company served its billionth burger   \n",
      "4       Signer of the Dec. of Indep., framer of the Constitution of Mass., second President of the United States   \n",
      "5                                  In the title of an Aesop fable, this insect shared billing with a grasshopper   \n",
      "6                                   Built in 312 B.C. to link Rome & the South of Italy, it's still in use today   \n",
      "7                                         No. 8: 30 steals for the Birmingham Barons; 2,306 steals for the Bulls   \n",
      "8  In the winter of 1971-72, a record 1,122 inches of snow fell at Rainier Paradise Ranger Station in this state   \n",
      "9             This housewares store was named for the packaging its merchandise came in & was first displayed on   \n",
      "\n",
      "           Answer float_value  \n",
      "0      Copernicus         200  \n",
      "1      Jim Thorpe         200  \n",
      "2         Arizona         200  \n",
      "3      McDonald's         200  \n",
      "4      John Adams         200  \n",
      "5         the ant         200  \n",
      "6  the Appian Way         400  \n",
      "7  Michael Jordan         400  \n",
      "8      Washington         400  \n",
      "9  Crate & Barrel         400  \n"
     ]
    }
   ],
   "source": [
    "print(jeopardy.head(10))"
   ]
  },
  {
   "cell_type": "code",
   "execution_count": 16,
   "id": "044523b1",
   "metadata": {
    "scrolled": true
   },
   "outputs": [
    {
     "name": "stdout",
     "output_type": "stream",
     "text": [
      "<class 'pandas.core.series.Series'>\n"
     ]
    }
   ],
   "source": [
    "print(type(jeopardy.float_value))"
   ]
  },
  {
   "cell_type": "code",
   "execution_count": 17,
   "id": "09f0933f",
   "metadata": {},
   "outputs": [],
   "source": [
    "jeopardy['float_value'] = [x.replace(\",\",\"\") for x in jeopardy.float_value]"
   ]
  },
  {
   "cell_type": "code",
   "execution_count": 18,
   "id": "986999a6",
   "metadata": {},
   "outputs": [],
   "source": [
    "jeopardy['float_value'] = [x.replace(\"one\",\"0\") for x in jeopardy.float_value]"
   ]
  },
  {
   "cell_type": "code",
   "execution_count": 19,
   "id": "dbb14346",
   "metadata": {},
   "outputs": [
    {
     "name": "stdout",
     "output_type": "stream",
     "text": [
      "0          200\n",
      "1          200\n",
      "2          200\n",
      "3          200\n",
      "4          200\n",
      "          ... \n",
      "216925    2000\n",
      "216926    2000\n",
      "216927    2000\n",
      "216928    2000\n",
      "216929       0\n",
      "Name: float_value, Length: 216930, dtype: object\n"
     ]
    }
   ],
   "source": [
    "print(jeopardy['float_value'])"
   ]
  },
  {
   "cell_type": "code",
   "execution_count": 20,
   "id": "4e2bcd0f",
   "metadata": {},
   "outputs": [],
   "source": [
    "jeopardy['float_value'] = [float(x) for x in jeopardy.float_value]"
   ]
  },
  {
   "cell_type": "code",
   "execution_count": 21,
   "id": "c9c5170f",
   "metadata": {},
   "outputs": [
    {
     "name": "stdout",
     "output_type": "stream",
     "text": [
      "   Show_Number    Air_Date      Round                         Category Value  \\\n",
      "0         4680  2004-12-31  Jeopardy!                          HISTORY  $200   \n",
      "1         4680  2004-12-31  Jeopardy!  ESPN's TOP 10 ALL-TIME ATHLETES  $200   \n",
      "2         4680  2004-12-31  Jeopardy!      EVERYBODY TALKS ABOUT IT...  $200   \n",
      "3         4680  2004-12-31  Jeopardy!                 THE COMPANY LINE  $200   \n",
      "4         4680  2004-12-31  Jeopardy!              EPITAPHS & TRIBUTES  $200   \n",
      "5         4680  2004-12-31  Jeopardy!                   3-LETTER WORDS  $200   \n",
      "6         4680  2004-12-31  Jeopardy!                          HISTORY  $400   \n",
      "7         4680  2004-12-31  Jeopardy!  ESPN's TOP 10 ALL-TIME ATHLETES  $400   \n",
      "8         4680  2004-12-31  Jeopardy!      EVERYBODY TALKS ABOUT IT...  $400   \n",
      "9         4680  2004-12-31  Jeopardy!                 THE COMPANY LINE  $400   \n",
      "\n",
      "                                                                                                        Question  \\\n",
      "0               For the last 8 years of his life, Galileo was under house arrest for espousing this man's theory   \n",
      "1    No. 2: 1912 Olympian; football star at Carlisle Indian School; 6 MLB seasons with the Reds, Giants & Braves   \n",
      "2                       The city of Yuma in this state has a record average of 4,055 hours of sunshine each year   \n",
      "3                           In 1963, live on \"The Art Linkletter Show\", this company served its billionth burger   \n",
      "4       Signer of the Dec. of Indep., framer of the Constitution of Mass., second President of the United States   \n",
      "5                                  In the title of an Aesop fable, this insect shared billing with a grasshopper   \n",
      "6                                   Built in 312 B.C. to link Rome & the South of Italy, it's still in use today   \n",
      "7                                         No. 8: 30 steals for the Birmingham Barons; 2,306 steals for the Bulls   \n",
      "8  In the winter of 1971-72, a record 1,122 inches of snow fell at Rainier Paradise Ranger Station in this state   \n",
      "9             This housewares store was named for the packaging its merchandise came in & was first displayed on   \n",
      "\n",
      "           Answer  float_value  \n",
      "0      Copernicus        200.0  \n",
      "1      Jim Thorpe        200.0  \n",
      "2         Arizona        200.0  \n",
      "3      McDonald's        200.0  \n",
      "4      John Adams        200.0  \n",
      "5         the ant        200.0  \n",
      "6  the Appian Way        400.0  \n",
      "7  Michael Jordan        400.0  \n",
      "8      Washington        400.0  \n",
      "9  Crate & Barrel        400.0  \n"
     ]
    }
   ],
   "source": [
    "print(jeopardy.head(10))"
   ]
  },
  {
   "cell_type": "code",
   "execution_count": 22,
   "id": "a851e5ff",
   "metadata": {
    "scrolled": true
   },
   "outputs": [
    {
     "name": "stdout",
     "output_type": "stream",
     "text": [
      "739.9884755451067\n"
     ]
    }
   ],
   "source": [
    "print(jeopardy.float_value.mean())"
   ]
  },
  {
   "cell_type": "code",
   "execution_count": 23,
   "id": "8e96c367",
   "metadata": {
    "scrolled": false
   },
   "outputs": [
    {
     "name": "stdout",
     "output_type": "stream",
     "text": [
      "China                             216\n",
      "Australia                         215\n",
      "Japan                             196\n",
      "Chicago                           194\n",
      "France                            193\n",
      "                                 ... \n",
      "the barre (or bar)                  1\n",
      "grams                               1\n",
      "the Hopis                           1\n",
      "free parking                        1\n",
      "Grigori Alexandrovich Potemkin      1\n",
      "Name: Answer, Length: 88268, dtype: int64\n"
     ]
    }
   ],
   "source": [
    "print(jeopardy.Answer.value_counts())"
   ]
  },
  {
   "cell_type": "code",
   "execution_count": 24,
   "id": "da538783",
   "metadata": {
    "scrolled": false
   },
   "outputs": [
    {
     "name": "stdout",
     "output_type": "stream",
     "text": [
      "      Show_Number    Air_Date             Round                    Category  \\\n",
      "40           4680  2004-12-31  Double Jeopardy!  DR. SEUSS AT THE MULTIPLEX   \n",
      "781          4335  2003-06-06         Jeopardy!                   MY PLACE?   \n",
      "811          4335  2003-06-06  Double Jeopardy!                 \"S\"-OTERICA   \n",
      "896          3834  2001-04-12         Jeopardy!          AIN'T THAT AMERICA   \n",
      "1074         4085  2002-05-10         Jeopardy!                CENTRAL PARK   \n",
      "\n",
      "      Value  \\\n",
      "40    $1200   \n",
      "781    $200   \n",
      "811    $400   \n",
      "896    $200   \n",
      "1074   $400   \n",
      "\n",
      "                                                                                                                                                                               Question  \\\n",
      "40    <a href=\"http://www.j-archive.com/media/2004-12-31_DJ_26.mp3\">Ripped from today's headlines, he was a turtle king gone mad; Mack was the one good turtle who'd bring him down</a>   \n",
      "781                                                                                                            A Norman could say, \"I'm the king of the motte-and-bailey style of\" this   \n",
      "811                                                                                                      Examples of this TV format include \"Leave It to Beaver\" & \"The King of Queens\"   \n",
      "896                                                                                                            This state was named for a man who was a European king from 1643 to 1715   \n",
      "1074                                                                      Central Park has a statue of King Wladyslaw II Jagiello of this country, who was also Grand Duke of Lithuania   \n",
      "\n",
      "         Answer  float_value  \n",
      "40       Yertle       1200.0  \n",
      "781      castle        200.0  \n",
      "811      sitcom        400.0  \n",
      "896   Louisiana        200.0  \n",
      "1074     Poland        400.0  \n",
      "['Yertle' 'castle' 'sitcom' ... '8' '(John) Hancock'\n",
      " 'a pyramid (the pyramids accepted)']\n",
      "1040\n"
     ]
    }
   ],
   "source": [
    "filter_king = filter_data(jeopardy, [\" KING \"])\n",
    "print(filter_king.head())\n",
    "unquie_answer = filter_king.Answer.unique()\n",
    "nunquie_answer = filter_king.Answer.nunique()\n",
    "print(unquie_answer)\n",
    "print(nunquie_answer)"
   ]
  },
  {
   "cell_type": "code",
   "execution_count": 25,
   "id": "7f5c0477",
   "metadata": {},
   "outputs": [
    {
     "name": "stdout",
     "output_type": "stream",
     "text": [
      "   Show_Number    Air_Date      Round                         Category Value  \\\n",
      "0         4680  2004-12-31  Jeopardy!                          HISTORY  $200   \n",
      "1         4680  2004-12-31  Jeopardy!  ESPN's TOP 10 ALL-TIME ATHLETES  $200   \n",
      "2         4680  2004-12-31  Jeopardy!      EVERYBODY TALKS ABOUT IT...  $200   \n",
      "3         4680  2004-12-31  Jeopardy!                 THE COMPANY LINE  $200   \n",
      "4         4680  2004-12-31  Jeopardy!              EPITAPHS & TRIBUTES  $200   \n",
      "5         4680  2004-12-31  Jeopardy!                   3-LETTER WORDS  $200   \n",
      "6         4680  2004-12-31  Jeopardy!                          HISTORY  $400   \n",
      "7         4680  2004-12-31  Jeopardy!  ESPN's TOP 10 ALL-TIME ATHLETES  $400   \n",
      "8         4680  2004-12-31  Jeopardy!      EVERYBODY TALKS ABOUT IT...  $400   \n",
      "9         4680  2004-12-31  Jeopardy!                 THE COMPANY LINE  $400   \n",
      "\n",
      "                                                                                                        Question  \\\n",
      "0               For the last 8 years of his life, Galileo was under house arrest for espousing this man's theory   \n",
      "1    No. 2: 1912 Olympian; football star at Carlisle Indian School; 6 MLB seasons with the Reds, Giants & Braves   \n",
      "2                       The city of Yuma in this state has a record average of 4,055 hours of sunshine each year   \n",
      "3                           In 1963, live on \"The Art Linkletter Show\", this company served its billionth burger   \n",
      "4       Signer of the Dec. of Indep., framer of the Constitution of Mass., second President of the United States   \n",
      "5                                  In the title of an Aesop fable, this insect shared billing with a grasshopper   \n",
      "6                                   Built in 312 B.C. to link Rome & the South of Italy, it's still in use today   \n",
      "7                                         No. 8: 30 steals for the Birmingham Barons; 2,306 steals for the Bulls   \n",
      "8  In the winter of 1971-72, a record 1,122 inches of snow fell at Rainier Paradise Ranger Station in this state   \n",
      "9             This housewares store was named for the packaging its merchandise came in & was first displayed on   \n",
      "\n",
      "           Answer  float_value  Year Century  \n",
      "0      Copernicus        200.0  2004   2000s  \n",
      "1      Jim Thorpe        200.0  2004   2000s  \n",
      "2         Arizona        200.0  2004   2000s  \n",
      "3      McDonald's        200.0  2004   2000s  \n",
      "4      John Adams        200.0  2004   2000s  \n",
      "5         the ant        200.0  2004   2000s  \n",
      "6  the Appian Way        400.0  2004   2000s  \n",
      "7  Michael Jordan        400.0  2004   2000s  \n",
      "8      Washington        400.0  2004   2000s  \n",
      "9  Crate & Barrel        400.0  2004   2000s  \n",
      "['2004' '2010' '2000' '2006' '2009' '1996' '2007' '1997' '2002' '2003'\n",
      " '2001' '1990' '1999' '2008' '2011' '2005' '1998' '2012' '1992' '1986'\n",
      " '1985' '1991' '1993' '1994' '1988' '1987' '1995' '1984' '1989']\n"
     ]
    }
   ],
   "source": [
    "jeopardy['Year'] = jeopardy.Air_Date.apply(lambda x:x[:4])\n",
    "jeopardy['Century'] = jeopardy.Air_Date.apply(lambda x:'1900s' if x[:1] == '1' else '2000s' )\n",
    "print(jeopardy.head(10))\n",
    "print(jeopardy.Year.unique())"
   ]
  },
  {
   "cell_type": "code",
   "execution_count": 26,
   "id": "23a800c8",
   "metadata": {
    "scrolled": true
   },
   "outputs": [
    {
     "name": "stdout",
     "output_type": "stream",
     "text": [
      "    Year  Show_Number\n",
      "0   1984            1\n",
      "1   1986            1\n",
      "2   1987            1\n",
      "3   1988            2\n",
      "4   1989            1\n",
      "5   1990            5\n",
      "6   1991            1\n",
      "7   1992            1\n",
      "8   1993            1\n",
      "9   1995            2\n",
      "10  1996            6\n",
      "11  1997           25\n",
      "12  1998           25\n",
      "13  1999           32\n",
      "14  2000           25\n",
      "15  2001           17\n",
      "16  2002           14\n",
      "17  2003           18\n",
      "18  2004           25\n",
      "19  2005           31\n",
      "20  2006           34\n",
      "21  2007           45\n",
      "22  2008           27\n",
      "23  2009           32\n",
      "24  2010           30\n",
      "25  2011           24\n",
      "26  2012            5\n",
      "  Century  Show_Number\n",
      "0   1900s          104\n",
      "1   2000s          327\n"
     ]
    }
   ],
   "source": [
    "filter_computer = filter_data(jeopardy, [\"computer\"])\n",
    "print(filter_computer.groupby('Year').Show_Number.count().reset_index())\n",
    "print(filter_computer.groupby('Century').Show_Number.count().reset_index())"
   ]
  },
  {
   "cell_type": "code",
   "execution_count": 27,
   "id": "947c852c",
   "metadata": {
    "scrolled": true
   },
   "outputs": [
    {
     "name": "stdout",
     "output_type": "stream",
     "text": [
      "      Show_Number    Air_Date             Round            Category  Value  \\\n",
      "831          4335  2003-06-06  Double Jeopardy!         PLAYWRIGHTS  $2000   \n",
      "4312         3403  1999-05-26  Double Jeopardy!           TOM JONES  $1000   \n",
      "4886         3331  1999-02-15         Jeopardy!  WORDS WITHIN WORDS   $500   \n",
      "5264         3254  1998-10-29  Double Jeopardy!  FEELING POSSESSIVE  $1000   \n",
      "5409         2047  1993-06-29         Jeopardy!              TAIWAN   $400   \n",
      "\n",
      "                                                                                                               Question  \\\n",
      "831   Born in 1799, this poet, novelist & playwright is to Russian literature what Shakespeare is to English literature   \n",
      "4312                             This \"Kubla Khan\" poet thought \"Tom Jones\" had 1 of the 3 best plots in all literature   \n",
      "4886                                                          Type of literature often produced by oversensitive youths   \n",
      "5264                                                                           In literature, gamekeeper Oliver Mellors   \n",
      "5409                                           It is prohibited to bring literature promoting this ideology into Taiwan   \n",
      "\n",
      "                       Answer  float_value  Year Century  \n",
      "831         Alexander Pushkin       2000.0  2003   2000s  \n",
      "4312  Samuel Taylor Coleridge       1000.0  1999   1900s  \n",
      "4886    Verse (oVERSEnsitive)        500.0  1999   1900s  \n",
      "5264  Lady Chatterley's Lover       1000.0  1998   1900s  \n",
      "5409                Communism        400.0  1993   1900s  \n",
      "Round               Category  Double Jeopardy!  Final Jeopardy!  Jeopardy!\n",
      "0                       \"DA\"               1.0              NaN        NaN\n",
      "1                  \"F\" TROOP               1.0              NaN        NaN\n",
      "2                \"GUN\" SMOKE               1.0              NaN        NaN\n",
      "3       \"W\"HO CAN IT BE NOW?               NaN              NaN        1.0\n",
      "4      \"Y\" IS THE ONLY VOWEL               NaN              NaN        1.0\n",
      "..                       ...               ...              ...        ...\n",
      "123                WINDMILLS               1.0              NaN        NaN\n",
      "124            WOMEN AUTHORS               NaN              1.0        NaN\n",
      "125            WOMEN WRITERS               NaN              NaN        1.0\n",
      "126       WORDS WITHIN WORDS               NaN              NaN        1.0\n",
      "127         WORLD LITERATURE               1.0              NaN        NaN\n",
      "\n",
      "[128 rows x 4 columns]\n"
     ]
    }
   ],
   "source": [
    "filter_literature = filter_data(jeopardy, [\"Literature\"])\n",
    "print(filter_literature.head())\n",
    "filter_literature_field = filter_literature.groupby(['Category','Round']).Show_Number.count().reset_index()\n",
    "filter_literature_pivot = filter_literature_field.pivot(columns = 'Round', index='Category', values='Show_Number').reset_index()\n",
    "print(filter_literature_pivot)"
   ]
  },
  {
   "cell_type": "code",
   "execution_count": 30,
   "id": "770bc941",
   "metadata": {},
   "outputs": [
    {
     "name": "stdout",
     "output_type": "stream",
     "text": [
      "Hello! What is your Name?Naina\n",
      "Naina\n",
      "Your Question for today is:\n",
      "103743    Azuma, Krakatoa\n",
      "Name: Question, dtype: object\n",
      "Answer:ok\n",
      "ok\n"
     ]
    },
    {
     "ename": "AttributeError",
     "evalue": "'NoneType' object has no attribute 'str'",
     "output_type": "error",
     "traceback": [
      "\u001b[1;31m---------------------------------------------------------------------------\u001b[0m",
      "\u001b[1;31mAttributeError\u001b[0m                            Traceback (most recent call last)",
      "\u001b[1;32m~\\AppData\\Local\\Temp\\ipykernel_6020\\3776173491.py\u001b[0m in \u001b[0;36m<module>\u001b[1;34m\u001b[0m\n\u001b[0;32m      5\u001b[0m \u001b[0manswer_guessed\u001b[0m \u001b[1;33m=\u001b[0m \u001b[0mprint\u001b[0m\u001b[1;33m(\u001b[0m\u001b[0minput\u001b[0m\u001b[1;33m(\u001b[0m\u001b[1;34m\"Answer:\"\u001b[0m\u001b[1;33m)\u001b[0m\u001b[1;33m)\u001b[0m\u001b[1;33m\u001b[0m\u001b[1;33m\u001b[0m\u001b[0m\n\u001b[0;32m      6\u001b[0m \u001b[1;31m# lower_answer = select_random['Answer'].lower()\u001b[0m\u001b[1;33m\u001b[0m\u001b[1;33m\u001b[0m\u001b[1;33m\u001b[0m\u001b[0m\n\u001b[1;32m----> 7\u001b[1;33m \u001b[1;32mif\u001b[0m \u001b[0mselect_random\u001b[0m\u001b[1;33m[\u001b[0m\u001b[1;34m'Answer'\u001b[0m\u001b[1;33m]\u001b[0m\u001b[1;33m.\u001b[0m\u001b[0mstr\u001b[0m\u001b[1;33m.\u001b[0m\u001b[0mlower\u001b[0m\u001b[1;33m(\u001b[0m\u001b[1;33m)\u001b[0m \u001b[1;33m==\u001b[0m \u001b[0manswer_guessed\u001b[0m\u001b[1;33m.\u001b[0m\u001b[0mstr\u001b[0m\u001b[1;33m.\u001b[0m\u001b[0mlower\u001b[0m\u001b[1;33m(\u001b[0m\u001b[1;33m)\u001b[0m\u001b[1;33m:\u001b[0m\u001b[1;33m\u001b[0m\u001b[1;33m\u001b[0m\u001b[0m\n\u001b[0m\u001b[0;32m      8\u001b[0m     \u001b[0mprint\u001b[0m\u001b[1;33m(\u001b[0m\u001b[1;34m\"Congrats!!! Your are Right.\"\u001b[0m\u001b[1;33m)\u001b[0m\u001b[1;33m\u001b[0m\u001b[1;33m\u001b[0m\u001b[0m\n\u001b[0;32m      9\u001b[0m \u001b[1;32melse\u001b[0m\u001b[1;33m:\u001b[0m\u001b[1;33m\u001b[0m\u001b[1;33m\u001b[0m\u001b[0m\n",
      "\u001b[1;31mAttributeError\u001b[0m: 'NoneType' object has no attribute 'str'"
     ]
    }
   ],
   "source": [
    "print(input(\"Hello! What is your Name?\"))\n",
    "print(\"Your Question for today is:\")\n",
    "select_random = jeopardy.sample()\n",
    "print(select_random['Question'])\n",
    "answer_guessed = print(input(\"Answer:\"))\n",
    "# lower_answer = select_random['Answer'].lower()\n",
    "if select_random['Answer'].str.lower() == answer_guessed.str.lower():\n",
    "    print(\"Congrats!!! Your are Right.\")\n",
    "else:\n",
    "    print(\"Sorry. You are Wrong.\")"
   ]
  }
 ],
 "metadata": {
  "kernelspec": {
   "display_name": "Python 3 (ipykernel)",
   "language": "python",
   "name": "python3"
  },
  "language_info": {
   "codemirror_mode": {
    "name": "ipython",
    "version": 3
   },
   "file_extension": ".py",
   "mimetype": "text/x-python",
   "name": "python",
   "nbconvert_exporter": "python",
   "pygments_lexer": "ipython3",
   "version": "3.8.8"
  }
 },
 "nbformat": 4,
 "nbformat_minor": 5
}
